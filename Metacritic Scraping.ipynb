{
 "cells": [
  {
   "cell_type": "code",
   "execution_count": 1,
   "id": "47976ab3",
   "metadata": {},
   "outputs": [],
   "source": [
    "from webdriver_manager.chrome import ChromeDriverManager # 자동으로 크롬드라이버(가상브라우저) 파일을 다운로드해주는 라이브러리\n",
    "from selenium.webdriver.chrome.service import Service # 다운로드된 크롬드라이버 파일을 연결하기 위해 활용\n",
    "from selenium.webdriver.chrome.options import Options # Selenium header 변경\n",
    "\n",
    "from selenium import webdriver\n",
    "from selenium.webdriver.common.by import By\n",
    "from selenium.webdriver.common.keys import Keys\n",
    "\n",
    "from bs4 import BeautifulSoup \n",
    "import time\n",
    "import pandas as pd\n",
    "import numpy as np\n",
    "import json\n",
    "import re\n",
    "import csv\n",
    "import requests\n",
    "import pickle\n",
    "import tqdm\n",
    "\n",
    "import sqlite3\n",
    "\n",
    "import warnings\n",
    "warnings.filterwarnings(\"ignore\") # 불필요한 Warning 메시지를 꺼줍니다.\n",
    "\n",
    "options = Options()\n",
    "options.headless = True\n",
    "\n",
    "import joblib"
   ]
  },
  {
   "cell_type": "code",
   "execution_count": null,
   "id": "75d8eeab",
   "metadata": {},
   "outputs": [],
   "source": [
    "service = Service(executable_path=ChromeDriverManager().install()) \n",
    "\n",
    "driver = webdriver.Chrome(service=service, options=options)\n",
    "\n",
    "driver.maximize_window()"
   ]
  },
  {
   "cell_type": "code",
   "execution_count": null,
   "id": "5615c9b0",
   "metadata": {},
   "outputs": [],
   "source": [
    "metacritic_base_url = 'https://www.metacritic.com/browse/games/score/userscore/all/all/filtered?page='\n",
    "\n",
    "driver.get(metacritic_base_url + str(0))\n",
    "\n",
    "time.sleep(3)"
   ]
  },
  {
   "cell_type": "code",
   "execution_count": null,
   "id": "6cd25946",
   "metadata": {},
   "outputs": [],
   "source": [
    "game_list_page = BeautifulSoup(driver.page_source, 'html.parser')\n",
    "\n",
    "game_anchor_list = game_list_page.select('.clamp-summary-wrap > a')[:50]"
   ]
  },
  {
   "cell_type": "code",
   "execution_count": null,
   "id": "20f36fcd",
   "metadata": {},
   "outputs": [],
   "source": [
    "for file_number, anchor in tqdm.tqdm(enumerate(game_anchor_list), total=len(game_anchor_list)):\n",
    "    driver.get(f\"https://www.metacritic.com{anchor.attrs['href']}/user-reviews\")\n",
    "    \n",
    "    time.sleep(3)\n",
    "    \n",
    "    review_page = BeautifulSoup(driver.page_source, 'html.parser')\n",
    "    \n",
    "    review_dict = {}\n",
    "    \n",
    "    review_dict['platform'] = review_page.select_one(\".product_title .platform\").get_text().strip()\n",
    "    review_dict['title'] = review_page.select_one(\".product_title h1\").get_text()\n",
    "    review_dict['publisher'] = review_page.select_one(\".publisher a\").get_text().strip()\n",
    "\n",
    "    for index, review in enumerate(review_page.select_one('.user_reviews').select('div.review_content')):\n",
    "        \n",
    "        review = review.select_one('.review_section')\n",
    "        wrapped_reviews = review.select('div.review_body span')\n",
    "        \n",
    "        review_text = ''\n",
    "        review_score = int(review.select_one('div.review_grade div').get_text())\n",
    "        \n",
    "        if len(wrapped_reviews) > 2:\n",
    "            review_text = wrapped_reviews[2].get_text()\n",
    "            if not review_text:\n",
    "                review_text = wrapped_reviews[1].get_text()\n",
    "        elif wrapped_reviews:\n",
    "            review_text = wrapped_reviews[0].get_text()\n",
    "        else:\n",
    "            continue\n",
    "            \n",
    "        review_dict[index] = {'score' : review_score, 'review' : review_text}\n",
    "            \n",
    "    joblib.dump(review_dict, f'BestReview/{file_number}.pkl')"
   ]
  },
  {
   "cell_type": "code",
   "execution_count": null,
   "id": "91d0a224",
   "metadata": {},
   "outputs": [],
   "source": [
    "dict_check = joblib.load(f'{5}.pkl')\n",
    "dict_check"
   ]
  },
  {
   "cell_type": "code",
   "execution_count": null,
   "id": "ac85a77f",
   "metadata": {},
   "outputs": [],
   "source": [
    "driver.get(metacritic_base_url + str(181))\n",
    "\n",
    "time.sleep(3)"
   ]
  },
  {
   "cell_type": "code",
   "execution_count": null,
   "id": "e53ad07d",
   "metadata": {},
   "outputs": [],
   "source": [
    "game_list_page = BeautifulSoup(driver.page_source, 'html.parser')\n",
    "\n",
    "game_anchor_list = game_list_page.select('.clamp-summary-wrap > a')\n",
    "\n",
    "game_anchor_list.reverse()"
   ]
  },
  {
   "cell_type": "code",
   "execution_count": null,
   "id": "6e21ba0c",
   "metadata": {},
   "outputs": [],
   "source": [
    "game_anchor_list = game_anchor_list[:50]"
   ]
  },
  {
   "cell_type": "code",
   "execution_count": null,
   "id": "381e0eaa",
   "metadata": {},
   "outputs": [],
   "source": [
    "for file_number, anchor in tqdm.tqdm(enumerate(game_anchor_list), total=len(game_anchor_list)):\n",
    "    driver.get(f\"https://www.metacritic.com{anchor.attrs['href']}/user-reviews\")\n",
    "    \n",
    "    time.sleep(3)\n",
    "    \n",
    "    review_page = BeautifulSoup(driver.page_source, 'html.parser')\n",
    "    \n",
    "    review_dict = {}\n",
    "    \n",
    "    review_dict['platform'] = ''\n",
    "    review_dict['title'] = ''\n",
    "    review_dict['publisher'] = ''\n",
    "    \n",
    "    try:\n",
    "        review_dict['platform'] = review_page.select_one(\".product_title .platform\").get_text().strip()\n",
    "        review_dict['title'] = review_page.select_one(\".product_title h1\").get_text()\n",
    "        review_dict['publisher'] = review_page.select_one(\".publisher a\").get_text().strip()\n",
    "    except:\n",
    "        pass\n",
    "\n",
    "    try:\n",
    "        for index, review in enumerate(review_page.select_one('.user_reviews').select('div.review_content')):\n",
    "\n",
    "            review = review.select_one('.review_section')\n",
    "            wrapped_reviews = review.select('div.review_body span')\n",
    "\n",
    "            review_text = ''\n",
    "            review_score = int(review.select_one('div.review_grade div').get_text())\n",
    "\n",
    "            if len(wrapped_reviews) > 2:\n",
    "                review_text = wrapped_reviews[2].get_text()\n",
    "                if not review_text:\n",
    "                    review_text = wrapped_reviews[1].get_text()\n",
    "            elif wrapped_reviews:\n",
    "                review_text = wrapped_reviews[0].get_text()\n",
    "            else:\n",
    "                continue\n",
    "\n",
    "            review_dict[index] = {'score' : review_score, 'review' : review_text}\n",
    "    except:\n",
    "        continue\n",
    "            \n",
    "    joblib.dump(review_dict, f'WorstReview/{file_number}.pkl')"
   ]
  },
  {
   "cell_type": "code",
   "execution_count": null,
   "id": "a275ae22",
   "metadata": {},
   "outputs": [],
   "source": [
    "driver.close()\n",
    "driver.quit()"
   ]
  }
 ],
 "metadata": {
  "kernelspec": {
   "display_name": "Python 3",
   "language": "python",
   "name": "python3"
  },
  "language_info": {
   "codemirror_mode": {
    "name": "ipython",
    "version": 3
   },
   "file_extension": ".py",
   "mimetype": "text/x-python",
   "name": "python",
   "nbconvert_exporter": "python",
   "pygments_lexer": "ipython3",
   "version": "3.8.8"
  }
 },
 "nbformat": 4,
 "nbformat_minor": 5
}

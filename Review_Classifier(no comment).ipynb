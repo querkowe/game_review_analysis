{
 "cells": [
  {
   "cell_type": "code",
   "execution_count": 1,
   "id": "52c99988",
   "metadata": {},
   "outputs": [],
   "source": [
    "# pip install lightgbm\n",
    "\n",
    "import joblib\n",
    "import os\n",
    "import re\n",
    "import nltk\n",
    "import numpy as np\n",
    "import pandas as pd\n",
    "import matplotlib.pyplot as plt\n",
    "import seaborn as sns\n",
    "\n",
    "from nltk.corpus import stopwords\n",
    "from sklearn.feature_extraction.text import CountVectorizer, TfidfTransformer\n",
    "from sklearn.model_selection import train_test_split, GridSearchCV\n",
    "from sklearn.linear_model import LogisticRegression\n",
    "from sklearn.metrics import accuracy_score, precision_score, recall_score, f1_score\n",
    "from sklearn.metrics import confusion_matrix, classification_report\n",
    "from sklearn.metrics import roc_curve, roc_auc_score\n",
    "from lightgbm import LGBMClassifier"
   ]
  },
  {
   "cell_type": "code",
   "execution_count": 2,
   "id": "c910b387",
   "metadata": {},
   "outputs": [],
   "source": [
    "# 번역된 베스트 리뷰 피클 파일 불러오기\n",
    "\n",
    "b_list = os.listdir('preprocessing/BestReview_Translate')\n",
    "\n",
    "b = []\n",
    "\n",
    "for i in b_list:\n",
    "    if os.path.splitext(i)[1] == '.pkl':\n",
    "        b.append(i)"
   ]
  },
  {
   "cell_type": "code",
   "execution_count": 3,
   "id": "f42efcc8",
   "metadata": {},
   "outputs": [],
   "source": [
    "# 번역된 워스트 리뷰 피클 파일 불러오기\n",
    "\n",
    "w_list = os.listdir('preprocessing/WorstReview_Translate')\n",
    "\n",
    "w = []\n",
    "\n",
    "for i in w_list:\n",
    "    if os.path.splitext(i)[1] == '.pkl':\n",
    "        w.append(i)"
   ]
  },
  {
   "cell_type": "code",
   "execution_count": 4,
   "id": "0e3ad13a",
   "metadata": {},
   "outputs": [],
   "source": [
    "# 모든 리뷰를 하나의 리스트로 저장\n",
    "\n",
    "all = []\n",
    "\n",
    "for i in range(len(b)):\n",
    "    all.append(joblib.load('preprocessing/BestReview_Translate/' + b[i]))\n",
    "    \n",
    "for i in range(len(w)):\n",
    "    all.append(joblib.load('preprocessing/WorstReview_Translate/' + w[i]))"
   ]
  },
  {
   "cell_type": "code",
   "execution_count": 5,
   "id": "f828f5c6",
   "metadata": {},
   "outputs": [],
   "source": [
    "# 리뷰의 제목, 리뷰텍스트, 점수를 리스트에 저장\n",
    "\n",
    "title = []\n",
    "review = []\n",
    "score = []\n",
    "\n",
    "for i in range(len(all)):\n",
    "    for j in range(all[i]['review number']):\n",
    "        try:\n",
    "            score.append(all[i][j]['score'])\n",
    "            review.append(all[i][j]['review'])\n",
    "            title.append(all[i]['title'])\n",
    "            \n",
    "        except:\n",
    "            pass"
   ]
  },
  {
   "cell_type": "code",
   "execution_count": 221,
   "id": "8a2ed92e",
   "metadata": {},
   "outputs": [
    {
     "data": {
      "text/plain": [
       "14509"
      ]
     },
     "execution_count": 221,
     "metadata": {},
     "output_type": "execute_result"
    }
   ],
   "source": [
    "len(review)"
   ]
  },
  {
   "cell_type": "code",
   "execution_count": 7,
   "id": "3f85fd44",
   "metadata": {
    "scrolled": false
   },
   "outputs": [
    {
     "data": {
      "text/html": [
       "<div>\n",
       "<style scoped>\n",
       "    .dataframe tbody tr th:only-of-type {\n",
       "        vertical-align: middle;\n",
       "    }\n",
       "\n",
       "    .dataframe tbody tr th {\n",
       "        vertical-align: top;\n",
       "    }\n",
       "\n",
       "    .dataframe thead th {\n",
       "        text-align: right;\n",
       "    }\n",
       "</style>\n",
       "<table border=\"1\" class=\"dataframe\">\n",
       "  <thead>\n",
       "    <tr style=\"text-align: right;\">\n",
       "      <th></th>\n",
       "      <th>Score</th>\n",
       "      <th>Review</th>\n",
       "    </tr>\n",
       "  </thead>\n",
       "  <tbody>\n",
       "    <tr>\n",
       "      <th>0</th>\n",
       "      <td>10</td>\n",
       "      <td>Easily one of the best, if not the most well k...</td>\n",
       "    </tr>\n",
       "    <tr>\n",
       "      <th>1</th>\n",
       "      <td>9</td>\n",
       "      <td>Hands down, one of the best games on DS. Ghost...</td>\n",
       "    </tr>\n",
       "    <tr>\n",
       "      <th>2</th>\n",
       "      <td>10</td>\n",
       "      <td>Innovative and addictive style of gameplay, en...</td>\n",
       "    </tr>\n",
       "    <tr>\n",
       "      <th>3</th>\n",
       "      <td>10</td>\n",
       "      <td>Phenomenal. This game is the perfect blend of ...</td>\n",
       "    </tr>\n",
       "    <tr>\n",
       "      <th>4</th>\n",
       "      <td>10</td>\n",
       "      <td>I picked up this game expecting good things fr...</td>\n",
       "    </tr>\n",
       "    <tr>\n",
       "      <th>...</th>\n",
       "      <td>...</td>\n",
       "      <td>...</td>\n",
       "    </tr>\n",
       "    <tr>\n",
       "      <th>14504</th>\n",
       "      <td>8</td>\n",
       "      <td>Too many bugs, too much dynamic difficulty. No...</td>\n",
       "    </tr>\n",
       "    <tr>\n",
       "      <th>14505</th>\n",
       "      <td>6</td>\n",
       "      <td>A great disappointment this year FIFA. I was h...</td>\n",
       "    </tr>\n",
       "    <tr>\n",
       "      <th>14506</th>\n",
       "      <td>8</td>\n",
       "      <td>They should have named it FIFA20: Remastered. ...</td>\n",
       "    </tr>\n",
       "    <tr>\n",
       "      <th>14507</th>\n",
       "      <td>9</td>\n",
       "      <td>I have purchased every fifa Game since PS1, an...</td>\n",
       "    </tr>\n",
       "    <tr>\n",
       "      <th>14508</th>\n",
       "      <td>8</td>\n",
       "      <td>Poor game do not buy unless you like to see yo...</td>\n",
       "    </tr>\n",
       "  </tbody>\n",
       "</table>\n",
       "<p>14509 rows × 2 columns</p>\n",
       "</div>"
      ],
      "text/plain": [
       "       Score                                             Review\n",
       "0         10  Easily one of the best, if not the most well k...\n",
       "1          9  Hands down, one of the best games on DS. Ghost...\n",
       "2         10  Innovative and addictive style of gameplay, en...\n",
       "3         10  Phenomenal. This game is the perfect blend of ...\n",
       "4         10  I picked up this game expecting good things fr...\n",
       "...      ...                                                ...\n",
       "14504      8  Too many bugs, too much dynamic difficulty. No...\n",
       "14505      6  A great disappointment this year FIFA. I was h...\n",
       "14506      8  They should have named it FIFA20: Remastered. ...\n",
       "14507      9  I have purchased every fifa Game since PS1, an...\n",
       "14508      8  Poor game do not buy unless you like to see yo...\n",
       "\n",
       "[14509 rows x 2 columns]"
      ]
     },
     "execution_count": 7,
     "metadata": {},
     "output_type": "execute_result"
    }
   ],
   "source": [
    "# 점수별 리뷰를 데이터프레임으로 변환\n",
    "\n",
    "df = pd.DataFrame({'Score':score, 'Review':review})\n",
    "pd.set_option('display.max_rows', 20)\n",
    "df"
   ]
  },
  {
   "cell_type": "code",
   "execution_count": 236,
   "id": "d9e15b5a",
   "metadata": {},
   "outputs": [
    {
     "data": {
      "text/html": [
       "<div>\n",
       "<style scoped>\n",
       "    .dataframe tbody tr th:only-of-type {\n",
       "        vertical-align: middle;\n",
       "    }\n",
       "\n",
       "    .dataframe tbody tr th {\n",
       "        vertical-align: top;\n",
       "    }\n",
       "\n",
       "    .dataframe thead th {\n",
       "        text-align: right;\n",
       "    }\n",
       "</style>\n",
       "<table border=\"1\" class=\"dataframe\">\n",
       "  <thead>\n",
       "    <tr style=\"text-align: right;\">\n",
       "      <th></th>\n",
       "      <th>y</th>\n",
       "    </tr>\n",
       "  </thead>\n",
       "  <tbody>\n",
       "    <tr>\n",
       "      <th>0</th>\n",
       "      <td>1</td>\n",
       "    </tr>\n",
       "    <tr>\n",
       "      <th>1</th>\n",
       "      <td>1</td>\n",
       "    </tr>\n",
       "    <tr>\n",
       "      <th>2</th>\n",
       "      <td>1</td>\n",
       "    </tr>\n",
       "    <tr>\n",
       "      <th>3</th>\n",
       "      <td>1</td>\n",
       "    </tr>\n",
       "    <tr>\n",
       "      <th>4</th>\n",
       "      <td>1</td>\n",
       "    </tr>\n",
       "    <tr>\n",
       "      <th>...</th>\n",
       "      <td>...</td>\n",
       "    </tr>\n",
       "    <tr>\n",
       "      <th>14504</th>\n",
       "      <td>1</td>\n",
       "    </tr>\n",
       "    <tr>\n",
       "      <th>14505</th>\n",
       "      <td>0</td>\n",
       "    </tr>\n",
       "    <tr>\n",
       "      <th>14506</th>\n",
       "      <td>1</td>\n",
       "    </tr>\n",
       "    <tr>\n",
       "      <th>14507</th>\n",
       "      <td>1</td>\n",
       "    </tr>\n",
       "    <tr>\n",
       "      <th>14508</th>\n",
       "      <td>1</td>\n",
       "    </tr>\n",
       "  </tbody>\n",
       "</table>\n",
       "<p>14509 rows × 1 columns</p>\n",
       "</div>"
      ],
      "text/plain": [
       "       y\n",
       "0      1\n",
       "1      1\n",
       "2      1\n",
       "3      1\n",
       "4      1\n",
       "...   ..\n",
       "14504  1\n",
       "14505  0\n",
       "14506  1\n",
       "14507  1\n",
       "14508  1\n",
       "\n",
       "[14509 rows x 1 columns]"
      ]
     },
     "execution_count": 236,
     "metadata": {},
     "output_type": "execute_result"
    }
   ],
   "source": [
    "# label data \n",
    "\n",
    "df['y'] = df['Score'].apply(lambda x : 1 if int(x) > 7 else 0)\n",
    "target = df[['y']]\n",
    "target"
   ]
  },
  {
   "cell_type": "code",
   "execution_count": 64,
   "id": "39733817",
   "metadata": {},
   "outputs": [
    {
     "data": {
      "text/html": [
       "<div>\n",
       "<style scoped>\n",
       "    .dataframe tbody tr th:only-of-type {\n",
       "        vertical-align: middle;\n",
       "    }\n",
       "\n",
       "    .dataframe tbody tr th {\n",
       "        vertical-align: top;\n",
       "    }\n",
       "\n",
       "    .dataframe thead th {\n",
       "        text-align: right;\n",
       "    }\n",
       "</style>\n",
       "<table border=\"1\" class=\"dataframe\">\n",
       "  <thead>\n",
       "    <tr style=\"text-align: right;\">\n",
       "      <th></th>\n",
       "      <th>Score</th>\n",
       "      <th>Review</th>\n",
       "      <th>y</th>\n",
       "    </tr>\n",
       "  </thead>\n",
       "  <tbody>\n",
       "    <tr>\n",
       "      <th>0</th>\n",
       "      <td>10</td>\n",
       "      <td>Easily one of the best, if not the most well k...</td>\n",
       "      <td>1</td>\n",
       "    </tr>\n",
       "    <tr>\n",
       "      <th>1</th>\n",
       "      <td>9</td>\n",
       "      <td>Hands down, one of the best games on DS. Ghost...</td>\n",
       "      <td>1</td>\n",
       "    </tr>\n",
       "    <tr>\n",
       "      <th>2</th>\n",
       "      <td>10</td>\n",
       "      <td>Innovative and addictive style of gameplay, en...</td>\n",
       "      <td>1</td>\n",
       "    </tr>\n",
       "    <tr>\n",
       "      <th>3</th>\n",
       "      <td>10</td>\n",
       "      <td>Phenomenal. This game is the perfect blend of ...</td>\n",
       "      <td>1</td>\n",
       "    </tr>\n",
       "    <tr>\n",
       "      <th>4</th>\n",
       "      <td>10</td>\n",
       "      <td>I picked up this game expecting good things fr...</td>\n",
       "      <td>1</td>\n",
       "    </tr>\n",
       "    <tr>\n",
       "      <th>...</th>\n",
       "      <td>...</td>\n",
       "      <td>...</td>\n",
       "      <td>...</td>\n",
       "    </tr>\n",
       "    <tr>\n",
       "      <th>14504</th>\n",
       "      <td>8</td>\n",
       "      <td>Too many bugs, too much dynamic difficulty. No...</td>\n",
       "      <td>1</td>\n",
       "    </tr>\n",
       "    <tr>\n",
       "      <th>14505</th>\n",
       "      <td>6</td>\n",
       "      <td>A great disappointment this year FIFA. I was h...</td>\n",
       "      <td>0</td>\n",
       "    </tr>\n",
       "    <tr>\n",
       "      <th>14506</th>\n",
       "      <td>8</td>\n",
       "      <td>They should have named it FIFA20: Remastered. ...</td>\n",
       "      <td>1</td>\n",
       "    </tr>\n",
       "    <tr>\n",
       "      <th>14507</th>\n",
       "      <td>9</td>\n",
       "      <td>I have purchased every fifa Game since PS1, an...</td>\n",
       "      <td>1</td>\n",
       "    </tr>\n",
       "    <tr>\n",
       "      <th>14508</th>\n",
       "      <td>8</td>\n",
       "      <td>Poor game do not buy unless you like to see yo...</td>\n",
       "      <td>1</td>\n",
       "    </tr>\n",
       "  </tbody>\n",
       "</table>\n",
       "<p>14509 rows × 3 columns</p>\n",
       "</div>"
      ],
      "text/plain": [
       "       Score                                             Review  y\n",
       "0         10  Easily one of the best, if not the most well k...  1\n",
       "1          9  Hands down, one of the best games on DS. Ghost...  1\n",
       "2         10  Innovative and addictive style of gameplay, en...  1\n",
       "3         10  Phenomenal. This game is the perfect blend of ...  1\n",
       "4         10  I picked up this game expecting good things fr...  1\n",
       "...      ...                                                ... ..\n",
       "14504      8  Too many bugs, too much dynamic difficulty. No...  1\n",
       "14505      6  A great disappointment this year FIFA. I was h...  0\n",
       "14506      8  They should have named it FIFA20: Remastered. ...  1\n",
       "14507      9  I have purchased every fifa Game since PS1, an...  1\n",
       "14508      8  Poor game do not buy unless you like to see yo...  1\n",
       "\n",
       "[14509 rows x 3 columns]"
      ]
     },
     "execution_count": 64,
     "metadata": {},
     "output_type": "execute_result"
    }
   ],
   "source": [
    "# X data\n",
    "\n",
    "X = df.copy()\n",
    "del X['y']\n",
    "X"
   ]
  },
  {
   "cell_type": "code",
   "execution_count": 103,
   "id": "e1e7c7b2",
   "metadata": {},
   "outputs": [],
   "source": [
    "# 정규표현식 적용 함수 정의\n",
    "\n",
    "def clean(text):\n",
    "#     alphabet = re.compile('[^ A-Za-z]+')\n",
    "    alphabet = re.compile(r'[A-Za-z]+')\n",
    "#     result = alphabet.sub('', text)\n",
    "    \n",
    "    result = ' '.join([word if len(word) > 2 else '' \\\n",
    "                            for word in re.findall(alphabet, text)])\n",
    "    \n",
    "    return result"
   ]
  },
  {
   "cell_type": "code",
   "execution_count": 148,
   "id": "d996b015",
   "metadata": {},
   "outputs": [
    {
     "data": {
      "text/plain": [
       "'Easily one  the best  not the most well known  releases  the year Includes beautiful plot with hints throughout challenging enough  keep you interested without becoming  game  random clicking and  OST which  incredible Shu Takumi has done  excellent job  this game both  aesthetics and  concept   hoping  see  sequel  some form'"
      ]
     },
     "execution_count": 148,
     "metadata": {},
     "output_type": "execute_result"
    }
   ],
   "source": [
    "X['Review'] = X['Review'].apply(lambda x: clean(x))\n",
    "X_clean = X.copy()\n",
    "X_clean['Review'][0]"
   ]
  },
  {
   "cell_type": "code",
   "execution_count": 98,
   "id": "28400a57",
   "metadata": {},
   "outputs": [],
   "source": [
    "# 형태소 분석 함수 정의\n",
    "\n",
    "def tokenized(text):\n",
    "    stop_words = stopwords.words(\"english\")\n",
    "    \n",
    "    tokens = nltk.word_tokenize(text)\n",
    "    token = [token for token in tokens if token.lower() not in stop_words]\n",
    "    return token"
   ]
  },
  {
   "cell_type": "code",
   "execution_count": 140,
   "id": "cbce64ca",
   "metadata": {},
   "outputs": [
    {
     "name": "stdout",
     "output_type": "stream",
     "text": [
      "['Easily', 'one', 'best', 'well', 'known', 'releases', 'year', 'Includes', 'beautiful', 'plot', 'hints', 'throughout', 'challenging', 'enough', 'keep', 'interested', 'without', 'becoming', 'game', 'random', 'clicking', 'OST', 'incredible', 'Shu', 'Takumi', 'done', 'excellent', 'job', 'game', 'aesthetics', 'concept', 'hoping', 'see', 'sequel', 'form']\n"
     ]
    }
   ],
   "source": [
    "result = tokenized(X_clean['Review'][0])\n",
    "print(result)"
   ]
  },
  {
   "cell_type": "code",
   "execution_count": 142,
   "id": "40eabec0",
   "metadata": {},
   "outputs": [],
   "source": [
    "# pos-tag 적용 함수 정의\n",
    "\n",
    "def pos(text):\n",
    "    \n",
    "    lemmatizer = nltk.wordnet.WordNetLemmatizer()\n",
    "    \n",
    "    alphabet = re.compile(r'[A-Za-z]+')\n",
    "    \n",
    "    tags = nltk.pos_tag([word if len(word) > 2 else '' for word in re.findall(alphabet, text)])\n",
    "    \n",
    "    word_list = []\n",
    "    \n",
    "    for word, tag in tags:\n",
    "        \n",
    "        if word.lower() not in stop_words:\n",
    "            \n",
    "            if tag.startswith('N') or tag.startswith('V') or tag.startswith('R'):\n",
    "                word_list.append(lemmatizer.lemmatize(word.lower(), tag[0].lower()))\n",
    "                \n",
    "            elif tag.startswith('J'):\n",
    "                word_list.append(lemmatizer.lemmatize(word.lower(), 'a'))\n",
    "                \n",
    "            elif tag.startswith('F') or tag.startswith('U'):\n",
    "                word_list.append(word.lower())\n",
    "                \n",
    "    text = ' '.join(word_list)\n",
    "    \n",
    "    return text\n",
    "    "
   ]
  },
  {
   "cell_type": "code",
   "execution_count": 150,
   "id": "fd10ae27",
   "metadata": {},
   "outputs": [
    {
     "data": {
      "text/plain": [
       "'easily best well know release year includes beautiful plot hint challenge enough keep interested become game random clicking ost incredible shu takumi do excellent job game aesthetic concept hop see sequel form'"
      ]
     },
     "execution_count": 150,
     "metadata": {},
     "output_type": "execute_result"
    }
   ],
   "source": [
    "X_clean['Review'] = X_clean['Review'].apply(lambda x: pos(x))\n",
    "X_pos = X_clean.copy()\n",
    "X_pos['Review'][0]"
   ]
  },
  {
   "cell_type": "code",
   "execution_count": 111,
   "id": "489be7e6",
   "metadata": {},
   "outputs": [
    {
     "name": "stdout",
     "output_type": "stream",
     "text": [
      "{'easily': 7552, 'one': 17357, 'best': 2355, 'well': 27787, 'known': 13924, 'releases': 20725, 'year ~\n"
     ]
    }
   ],
   "source": [
    "# 형태소 분석값을 기준으로 CountVectorizer\n",
    "\n",
    "index_vectorizer = CountVectorizer(tokenizer= lambda x: tokenized(x))\n",
    "\n",
    "X_pos = index_vectorizer.fit_transform(X_pos['Review'].tolist())\n",
    "\n",
    "print(str(index_vectorizer.vocabulary_)[:100]+\" ~\")"
   ]
  },
  {
   "cell_type": "code",
   "execution_count": 245,
   "id": "20f04073",
   "metadata": {
    "scrolled": true
   },
   "outputs": [
    {
     "name": "stdout",
     "output_type": "stream",
     "text": [
      "Easily one of the best if not the most well known DS releases of the year Includes beautiful plot with hints throughout challenging enough to keep you interested without becoming a game of random clicking and an OST which is incredible Shu Takumi has done an excellent job on this game both in aesthetics and in concept Im hoping to see a sequel in some form\n",
      "  (0, 10614)\t1\n",
      "  (0, 25341)\t1\n",
      "  (0, 3416)\t1\n",
      "  (0, 40030)\t1\n",
      "  (0, 20318)\t1\n",
      "  (0, 10323)\t1\n",
      "  (0, 30120)\t1\n",
      "  (0, 40970)\t1\n",
      "  (0, 18336)\t1\n",
      "  (0, 3135)\t1\n",
      "  (0, 27547)\t1\n",
      "  (0, 17271)\t1\n",
      "  (0, 36811)\t1\n",
      "  (0, 5407)\t1\n",
      "  (0, 11367)\t1\n",
      "  (0, 20065)\t1\n",
      "  (0, 18926)\t1\n",
      "  (0, 40482)\t1\n",
      "  (0, 3178)\t1\n",
      "  (0, 14473)\t2\n",
      "  (0, 29354)\t1\n",
      "  (0, 6073)\t1\n",
      "  (0, 25738)\t1\n",
      "  (0, 18394)\t1\n",
      "  (0, 32910)\t1\n",
      "  (0, 35862)\t1\n",
      "  (0, 9983)\t1\n",
      "  (0, 12085)\t1\n",
      "  (0, 19710)\t1\n",
      "  (0, 619)\t1\n",
      "  (0, 6767)\t1\n",
      "  (0, 18035)\t1\n",
      "  (0, 17514)\t1\n",
      "  (0, 32138)\t1\n",
      "  (0, 32360)\t1\n",
      "  (0, 13848)\t1\n"
     ]
    }
   ],
   "source": [
    "print(X['Review'][0])\n",
    "print(X_pos[0])"
   ]
  },
  {
   "cell_type": "code",
   "execution_count": 155,
   "id": "bf06a76b",
   "metadata": {},
   "outputs": [
    {
     "name": "stdout",
     "output_type": "stream",
     "text": [
      "(14509, 24164)\n",
      "  (0, 23977)\t0.10523835963173729\n",
      "  (0, 23490)\t0.09201922585162135\n",
      "  (0, 20985)\t0.2850837207947827\n",
      "  (0, 19255)\t0.2811348290397458\n",
      "  (0, 18941)\t0.15764517599458258\n",
      "  (0, 18798)\t0.11001646515037888\n",
      "  (0, 17608)\t0.127951846812576\n",
      "  (0, 17129)\t0.19514020924308612\n",
      "  (0, 16067)\t0.14164250913925125\n",
      "  (0, 15035)\t0.22501170655594338\n",
      "  (0, 11823)\t0.11860747008722917\n",
      "  (0, 11670)\t0.1310662796267312\n",
      "  (0, 11413)\t0.1585950080600313\n",
      "  (0, 11013)\t0.1987682676454478\n",
      "  (0, 10635)\t0.1479533156876983\n",
      "  (0, 10584)\t0.33156177548383947\n",
      "  (0, 10049)\t0.19319204461206896\n",
      "  (0, 9902)\t0.217530410755884\n",
      "  (0, 8492)\t0.07925496055754322\n",
      "  (0, 8122)\t0.18485651586317928\n",
      "  (0, 7156)\t0.14089552231250382\n",
      "  (0, 6706)\t0.13728932685809983\n",
      "  (0, 6249)\t0.15111371225997197\n",
      "  (0, 3933)\t0.1854951414483404\n",
      "  (0, 3517)\t0.3083227481393111\n",
      "  (0, 3142)\t0.1382731963168325\n",
      "  (0, 1992)\t0.07370022112508885\n",
      "  (0, 1856)\t0.1457151028472289\n",
      "  (0, 1843)\t0.13098161587086887\n",
      "  (0, 357)\t0.2264385954923623\n"
     ]
    }
   ],
   "source": [
    "# TF-IDF 적용\n",
    "\n",
    "tfidf_vectorizer = TfidfTransformer()\n",
    "X_pos = tfidf_vectorizer.fit_transform(X_pos)\n",
    "\n",
    "print(X_pos.shape)\n",
    "print(X_pos[0])"
   ]
  },
  {
   "cell_type": "code",
   "execution_count": 156,
   "id": "1c56f480",
   "metadata": {},
   "outputs": [
    {
     "name": "stdout",
     "output_type": "stream",
     "text": [
      "(10156, 24164)\n",
      "(4353, 24164)\n"
     ]
    }
   ],
   "source": [
    "# 학습 데이터셋과 테스트 데이터셋으로 분리\n",
    "\n",
    "X_train, X_test, y_train, y_test = train_test_split(X_pos, target, test_size=0.3)\n",
    "print(X_train.shape)\n",
    "print(X_test.shape)"
   ]
  },
  {
   "cell_type": "code",
   "execution_count": 157,
   "id": "2271cd49",
   "metadata": {},
   "outputs": [
    {
     "name": "stderr",
     "output_type": "stream",
     "text": [
      "C:\\Programming\\ANACONDA\\lib\\site-packages\\sklearn\\utils\\validation.py:63: DataConversionWarning: A column-vector y was passed when a 1d array was expected. Please change the shape of y to (n_samples, ), for example using ravel().\n",
      "  return f(*args, **kwargs)\n"
     ]
    },
    {
     "name": "stdout",
     "output_type": "stream",
     "text": [
      "accuracy: 0.87\n",
      "              precision    recall  f1-score   support\n",
      "\n",
      "           0       0.76      0.10      0.17       593\n",
      "           1       0.87      1.00      0.93      3760\n",
      "\n",
      "    accuracy                           0.87      4353\n",
      "   macro avg       0.82      0.55      0.55      4353\n",
      "weighted avg       0.86      0.87      0.83      4353\n",
      "\n"
     ]
    }
   ],
   "source": [
    "# 로지스틱 회귀 모델 적용\n",
    "\n",
    "LR_model = LogisticRegression(random_state=0)\n",
    "LR_model.fit(X_train, y_train)\n",
    "y_pred = LR_model.predict(X_test)\n",
    "y_pred_proba = LR_model.predict_proba(X_test)[:,1]\n",
    "\n",
    "print(\"accuracy: %.2f\" % accuracy_score(y_test, y_pred))\n",
    "print(classification_report(y_test, y_pred))"
   ]
  },
  {
   "cell_type": "code",
   "execution_count": 158,
   "id": "4a44d2e8",
   "metadata": {},
   "outputs": [
    {
     "data": {
      "text/plain": [
       "array([[  58,  535],\n",
       "       [  18, 3742]], dtype=int64)"
      ]
     },
     "execution_count": 158,
     "metadata": {},
     "output_type": "execute_result"
    }
   ],
   "source": [
    "# 혼동행렬 출력\n",
    "\n",
    "matrix = confusion_matrix(y_true = y_test, y_pred = y_pred)\n",
    "matrix"
   ]
  },
  {
   "cell_type": "code",
   "execution_count": 159,
   "id": "53b8c3de",
   "metadata": {},
   "outputs": [
    {
     "name": "stdout",
     "output_type": "stream",
     "text": [
      "0.8842291270496214\n"
     ]
    },
    {
     "data": {
      "image/png": "[encoded data removed]",
      "text/plain": [
       "<Figure size 720x720 with 1 Axes>"
      ]
     },
     "metadata": {
      "needs_background": "light"
     },
     "output_type": "display_data"
    }
   ],
   "source": [
    "# 로지스틱 회귀 ROC curve 출력\n",
    "\n",
    "fpr, tpr, _ = roc_curve(y_test, y_pred_proba)\n",
    "roc_auc = roc_auc_score(y_test, y_pred_proba)\n",
    "print(roc_auc)\n",
    "\n",
    "plt.figure(figsize=(10, 10))\n",
    "plt.plot(fpr, tpr, color='darkorange', lw=2, label='ROC curve (area = %0.2f)' % roc_auc)\n",
    "plt.plot([0, 1], [0, 1], color='navy', lw=2, linestyle='--')\n",
    "\n",
    "plt.xlim([0.0, 1.0])\n",
    "plt.ylim([0.0, 1.05])\n",
    "plt.xlabel('False Positive Rate')\n",
    "plt.ylabel('True Positive Rate')\n",
    "plt.legend(loc=\"lower right\")\n",
    "plt.title(\"LR ROC curve\")\n",
    "plt.show()"
   ]
  },
  {
   "cell_type": "code",
   "execution_count": 160,
   "id": "4325b117",
   "metadata": {},
   "outputs": [
    {
     "data": {
      "text/plain": [
       "1    12601\n",
       "0     1908\n",
       "Name: y, dtype: int64"
      ]
     },
     "execution_count": 160,
     "metadata": {},
     "output_type": "execute_result"
    }
   ],
   "source": [
    "# 라벨 데이터 수 확인\n",
    "\n",
    "df['y'].value_counts()"
   ]
  },
  {
   "cell_type": "code",
   "execution_count": 162,
   "id": "d18f475b",
   "metadata": {
    "scrolled": false
   },
   "outputs": [
    {
     "data": {
      "text/plain": [
       "2000"
      ]
     },
     "execution_count": 162,
     "metadata": {},
     "output_type": "execute_result"
    }
   ],
   "source": [
    "# 데이터 균등화를 위한 샘플데이터 생성\n",
    "\n",
    "PRI = df[ df['y'] == 1 ].sample(1000, random_state=42).index.tolist()\n",
    "NRI = df[ df['y'] == 0 ].sample(1000, random_state=42).index.tolist()\n",
    "\n",
    "RI = PRI + NRI\n",
    "len(RI)"
   ]
  },
  {
   "cell_type": "code",
   "execution_count": 164,
   "id": "2efe2f6a",
   "metadata": {},
   "outputs": [
    {
     "name": "stdout",
     "output_type": "stream",
     "text": [
      "(1400, 24164)\n",
      "(600, 24164)\n"
     ]
    }
   ],
   "source": [
    "# 리샘플링 데이터 스플릿\n",
    "\n",
    "sample_X_pos = X_pos[RI, :]\n",
    "sample_target = df['y'][RI]\n",
    "\n",
    "X_train, X_test, y_train, y_test = train_test_split(sample_X_pos, sample_target, test_size=0.30, random_state = 0)\n",
    "\n",
    "print(X_train.shape)\n",
    "print(X_test.shape)"
   ]
  },
  {
   "cell_type": "code",
   "execution_count": 125,
   "id": "91019d6e",
   "metadata": {},
   "outputs": [
    {
     "name": "stdout",
     "output_type": "stream",
     "text": [
      "accuracy: 0.80\n",
      "              precision    recall  f1-score   support\n",
      "\n",
      "           0       0.75      0.87      0.81       292\n",
      "           1       0.85      0.73      0.79       308\n",
      "\n",
      "    accuracy                           0.80       600\n",
      "   macro avg       0.80      0.80      0.80       600\n",
      "weighted avg       0.80      0.80      0.80       600\n",
      "\n"
     ]
    }
   ],
   "source": [
    "# 리샘플링 데이터로 로지스틱 회귀 모델 재분석\n",
    "\n",
    "LR_model = LogisticRegression(random_state=0)\n",
    "LR_model.fit(X_train, y_train)\n",
    "y_pred = LR_model.predict(X_test)\n",
    "y_pred_proba = LR_model.predict_proba(X_test)[:,1]\n",
    "\n",
    "print(\"accuracy: %.2f\" % accuracy_score(y_test, y_pred))\n",
    "print(classification_report(y_test, y_pred))"
   ]
  },
  {
   "cell_type": "code",
   "execution_count": 126,
   "id": "d41510a0",
   "metadata": {},
   "outputs": [
    {
     "data": {
      "text/plain": [
       "array([[253,  39],\n",
       "       [ 83, 225]], dtype=int64)"
      ]
     },
     "execution_count": 126,
     "metadata": {},
     "output_type": "execute_result"
    }
   ],
   "source": [
    "matrix = confusion_matrix(y_true = y_test, y_pred = y_pred)\n",
    "matrix"
   ]
  },
  {
   "cell_type": "code",
   "execution_count": 127,
   "id": "d525a204",
   "metadata": {},
   "outputs": [
    {
     "name": "stdout",
     "output_type": "stream",
     "text": [
      "0.8686399217221135\n"
     ]
    },
    {
     "data": {
      "image/png": "[encoded data removed]",
      "text/plain": [
       "<Figure size 720x720 with 1 Axes>"
      ]
     },
     "metadata": {
      "needs_background": "light"
     },
     "output_type": "display_data"
    }
   ],
   "source": [
    "# 리샘플링 데이터로 로지스틱 회귀 모델 ROC curve 출력\n",
    "\n",
    "fpr, tpr, _ = roc_curve(y_test, y_pred_proba)\n",
    "roc_auc = roc_auc_score(y_test, y_pred_proba)\n",
    "print(roc_auc)\n",
    "\n",
    "plt.figure(figsize=(10, 10))\n",
    "plt.plot(fpr, tpr, color='darkorange', lw=2, label='ROC curve (area = %0.2f)' % roc_auc)\n",
    "plt.plot([0, 1], [0, 1], color='navy', lw=2, linestyle='--')\n",
    "\n",
    "plt.xlim([0.0, 1.0])\n",
    "plt.ylim([0.0, 1.05])\n",
    "plt.xlabel('False Positive Rate')\n",
    "plt.ylabel('True Positive Rate')\n",
    "plt.legend(loc=\"lower right\")\n",
    "plt.title(\"LR ROC curve\")\n",
    "plt.show()"
   ]
  },
  {
   "cell_type": "code",
   "execution_count": 165,
   "id": "a3c59dc6",
   "metadata": {
    "scrolled": true
   },
   "outputs": [
    {
     "data": {
      "text/plain": [
       "<BarContainer object of 24164 artists>"
      ]
     },
     "execution_count": 165,
     "metadata": {},
     "output_type": "execute_result"
    },
    {
     "data": {
      "image/png": "[encoded data removed]",
      "text/plain": [
       "<Figure size 1800x1080 with 1 Axes>"
      ]
     },
     "metadata": {
      "needs_background": "light"
     },
     "output_type": "display_data"
    }
   ],
   "source": [
    "# 단어별 상관관계 그래프 출력\n",
    "\n",
    "plt.rcParams['figure.figsize'] = [25, 15]\n",
    "# plt.gca().set_facecolor('#000000') # 그래프 배경색 설정\n",
    "plt.bar(range(len(LR_model.coef_[0])), LR_model.coef_[0])"
   ]
  },
  {
   "cell_type": "code",
   "execution_count": 166,
   "id": "126fde1c",
   "metadata": {},
   "outputs": [
    {
     "name": "stdout",
     "output_type": "stream",
     "text": [
      "[(5.301483721885306, 1992), (3.29562448416908, 15621), (3.2231704646795447, 692), (3.203828922276679, 9191), (2.9217137091395364, 12980), (2.8673715604460868, 7071), (2.7866886411285092, 1527), (2.27226027211135, 7623), (2.2435477304001448, 687), (2.2397885382313, 7156)]\n",
      "[(-2.0218309342742344, 20523), (-2.0539382724181756, 18360), (-2.156711253258416, 16200), (-2.219684208252482, 15192), (-2.222372757028702, 1603), (-2.331234442302216, 15191), (-2.527338637767439, 1495), (-2.7062568093726935, 2353), (-2.9578410813378375, 17753), (-3.8354268204450506, 2357)]\n"
     ]
    }
   ],
   "source": [
    "# 상관관계 값과 단어 벡터 출력\n",
    "\n",
    "print(sorted(((value, index) for index, value in enumerate(LR_model.coef_[0])), reverse = True)[:10])\n",
    "print(sorted(((value, index) for index, value in enumerate(LR_model.coef_[0])), reverse = True)[-10:])"
   ]
  },
  {
   "cell_type": "code",
   "execution_count": 167,
   "id": "26c56732",
   "metadata": {},
   "outputs": [],
   "source": [
    "# 벡터값을 단어로 변환\n",
    "\n",
    "coef_index = sorted(((value, index) for index, value in enumerate(LR_model.coef_[0])), reverse = True)\n",
    "invert_index_vectorizer = {v: k for k, v in index_vectorizer.vocabulary_.items()}"
   ]
  },
  {
   "cell_type": "code",
   "execution_count": 169,
   "id": "5c13d03c",
   "metadata": {},
   "outputs": [
    {
     "name": "stdout",
     "output_type": "stream",
     "text": [
      "best 5.301483721885306\n",
      "perfect 3.29562448416908\n",
      "amazing 3.2231704646795447\n",
      "great 3.203828922276679\n",
      "masterpiece 2.9217137091395364\n",
      "ever 2.8673715604460868\n",
      "awesome 2.7866886411285092\n",
      "favorite 2.27226027211135\n",
      "amaze 2.2435477304001448\n",
      "excellent 2.2397885382313\n"
     ]
    }
   ],
   "source": [
    "# 긍정 단어 10개 출력\n",
    "\n",
    "for coef in coef_index[:10]:\n",
    "    print(invert_index_vectorizer[coef[1]], coef[0])"
   ]
  },
  {
   "cell_type": "code",
   "execution_count": 170,
   "id": "d7591400",
   "metadata": {},
   "outputs": [
    {
     "name": "stdout",
     "output_type": "stream",
     "text": [
      "boring -3.8354268204450506\n",
      "repetitive -2.9578410813378375\n",
      "bore -2.7062568093726935\n",
      "average -2.527338637767439\n",
      "overrate -2.331234442302216\n",
      "bad -2.222372757028702\n",
      "overrated -2.219684208252482\n",
      "poor -2.156711253258416\n",
      "ruin -2.0539382724181756\n",
      "stupid -2.0218309342742344\n",
      "score -2.0114460334539213\n",
      "cheater -1.8953805085822875\n",
      "clunky -1.8899623462578303\n",
      "run -1.881033826186109\n",
      "short -1.82482965709398\n",
      "nothing -1.813841984931818\n",
      "understand -1.730069749772336\n",
      "open -1.723366252041263\n",
      "horrible -1.6930229398993337\n",
      "terrible -1.669310574134524\n"
     ]
    }
   ],
   "source": [
    "# 부정 단어 10개 출력\n",
    "\n",
    "for coef in coef_index[-1:-11:-1]:\n",
    "    print(invert_index_vectorizer[coef[1]], coef[0])"
   ]
  },
  {
   "cell_type": "code",
   "execution_count": null,
   "id": "1762f55b",
   "metadata": {},
   "outputs": [],
   "source": [
    "# LGBM 모델 적용\n",
    "\n",
    "LGBM_model = LGBMClassifier()\n",
    "LGBM_model.fit(X_train, y_train, eval_metric='logloss')\n",
    "y_pred = LGBM_model.predict(X_test)\n",
    "y_pred_proba = LGBM_model.predict_proba(X_test)[:,1]\n",
    "\n",
    "print(\"accuracy: %.2f\" % accuracy_score(y_test, y_pred))\n",
    "print(classification_report(y_test, y_pred))"
   ]
  },
  {
   "cell_type": "code",
   "execution_count": null,
   "id": "0993d236",
   "metadata": {},
   "outputs": [],
   "source": [
    "matrix = confusion_matrix(y_true = y_test, y_pred = y_pred)\n",
    "matrix"
   ]
  },
  {
   "cell_type": "code",
   "execution_count": null,
   "id": "6071f7a9",
   "metadata": {},
   "outputs": [],
   "source": [
    "# LGBM 모델 ROC curve 출력\n",
    "\n",
    "fpr, tpr, _ = roc_curve(y_test, y_pred_proba)\n",
    "roc_auc = roc_auc_score(y_test, y_pred_proba)\n",
    "print(roc_auc)\n",
    "\n",
    "plt.figure(figsize=(10, 10))\n",
    "plt.plot(fpr, tpr, color='darkorange', lw=2, label='ROC curve (area = %0.2f)' % roc_auc)\n",
    "plt.plot([0, 1], [0, 1], color='navy', lw=2, linestyle='--')\n",
    "\n",
    "plt.xlim([0.0, 1.0])\n",
    "plt.ylim([0.0, 1.05])\n",
    "plt.xlabel('False Positive Rate')\n",
    "plt.ylabel('True Positive Rate')\n",
    "plt.legend(loc=\"lower right\")\n",
    "plt.title(\"ROC curve\")\n",
    "plt.show()"
   ]
  },
  {
   "cell_type": "code",
   "execution_count": null,
   "id": "e0178bbb",
   "metadata": {},
   "outputs": [],
   "source": [
    "# 그리드 서치 점수 분석\n",
    "\n",
    "LGBM_parameters = {'n_estimators': [500,1000],\n",
    "                  'max_depth': [2,4,8],\n",
    "                  'learning_rate': [0.01, 0.1, 1]}\n",
    "\n",
    "grid_LGBM = GridSearchCV(LGBM_model, param_grid=LGBM_parameters, refit = True, return_train_score = True)\n",
    "\n",
    "grid_LGBM.fit(X_train,y_train)\n",
    "\n",
    "LGBM_scores_df = pd.DataFrame(grid_LGBM.cv_results_)\n",
    "\n",
    "\n",
    "print('Best Parameter : ', grid_LGBM.best_params_)\n",
    "print('Best score : ', grid_LGBM.best_score_)\n",
    "\n",
    "LGBM_estimator = grid_LGBM.best_estimator_\n",
    "\n",
    "LGBM_scores_df"
   ]
  }
 ],
 "metadata": {
  "kernelspec": {
   "display_name": "Python 3",
   "language": "python",
   "name": "python3"
  },
  "language_info": {
   "codemirror_mode": {
    "name": "ipython",
    "version": 3
   },
   "file_extension": ".py",
   "mimetype": "text/x-python",
   "name": "python",
   "nbconvert_exporter": "python",
   "pygments_lexer": "ipython3",
   "version": "3.8.8"
  }
 },
 "nbformat": 4,
 "nbformat_minor": 5
}

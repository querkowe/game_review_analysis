{
 "cells": [
  {
   "cell_type": "code",
   "execution_count": 1,
   "id": "07d57b49",
   "metadata": {},
   "outputs": [],
   "source": [
    "import pandas as pd\n",
    "import glob\n",
    "\n",
    "path = './*'\n",
    "file_list = glob.glob(path)"
   ]
  },
  {
   "cell_type": "code",
   "execution_count": 2,
   "id": "51943e20",
   "metadata": {},
   "outputs": [],
   "source": [
    "name_list = []\n",
    "\n",
    "for i in file_list:\n",
    "    \n",
    "    name_list.append(i.strip('.\\\\'))"
   ]
  },
  {
   "cell_type": "code",
   "execution_count": 3,
   "id": "841f08ea",
   "metadata": {},
   "outputs": [],
   "source": [
    "plk_name = []\n",
    "for i in name_list:\n",
    "    if i.find('pkl') != -1:\n",
    "    \n",
    "        plk_name.append(i)"
   ]
  },
  {
   "cell_type": "code",
   "execution_count": 4,
   "id": "739dd595",
   "metadata": {},
   "outputs": [],
   "source": [
    "import pickle\n",
    "\n",
    "game_review = []\n",
    "for i in plk_name:\n",
    "    \n",
    "    with open(i,\"rb\") as fr:\n",
    "        data = pickle.load(fr)\n",
    "        game_review.append(data)\n"
   ]
  },
  {
   "cell_type": "code",
   "execution_count": 5,
   "id": "4041fdea",
   "metadata": {},
   "outputs": [],
   "source": [
    "game_df = pd.DataFrame(game_review)"
   ]
  },
  {
   "cell_type": "code",
   "execution_count": 6,
   "id": "09dd23d2",
   "metadata": {},
   "outputs": [],
   "source": [
    "with open('../game_pk/game_df_b120.pkl', 'wb') as f:\n",
    "    pickle.dump(game_df, f)"
   ]
  },
  {
   "cell_type": "code",
   "execution_count": null,
   "id": "f7887a84",
   "metadata": {},
   "outputs": [],
   "source": []
  }
 ],
 "metadata": {
  "kernelspec": {
   "display_name": "Python 3",
   "language": "python",
   "name": "python3"
  },
  "language_info": {
   "codemirror_mode": {
    "name": "ipython",
    "version": 3
   },
   "file_extension": ".py",
   "mimetype": "text/x-python",
   "name": "python",
   "nbconvert_exporter": "python",
   "pygments_lexer": "ipython3",
   "version": "3.8.8"
  }
 },
 "nbformat": 4,
 "nbformat_minor": 5
}

{
 "cells": [
  {
   "cell_type": "code",
   "execution_count": 12,
   "id": "07d57b49",
   "metadata": {},
   "outputs": [],
   "source": [
    "import glob\n",
    "\n",
    "path = './*'\n",
    "file_list = glob.glob(path)"
   ]
  },
  {
   "cell_type": "code",
   "execution_count": 13,
   "id": "51943e20",
   "metadata": {},
   "outputs": [],
   "source": [
    "name_list = []\n",
    "\n",
    "for i in file_list:\n",
    "    \n",
    "    name_list.append(i.strip('.\\\\'))\n"
   ]
  },
  {
   "cell_type": "code",
   "execution_count": 14,
   "id": "841f08ea",
   "metadata": {},
   "outputs": [],
   "source": [
    "del name_list[0]"
   ]
  },
  {
   "cell_type": "code",
   "execution_count": 15,
   "id": "739dd595",
   "metadata": {},
   "outputs": [
    {
     "data": {
      "text/plain": [
       "['t0.pkl',\n",
       " 't1.pkl',\n",
       " 't10.pkl',\n",
       " 't11.pkl',\n",
       " 't12.pkl',\n",
       " 't13.pkl',\n",
       " 't14.pkl',\n",
       " 't15.pkl',\n",
       " 't16.pkl',\n",
       " 't17.pkl',\n",
       " 't18.pkl',\n",
       " 't19.pkl',\n",
       " 't2.pkl',\n",
       " 't20.pkl',\n",
       " 't21.pkl',\n",
       " 't22.pkl',\n",
       " 't23.pkl',\n",
       " 't24.pkl',\n",
       " 't25.pkl',\n",
       " 't26.pkl',\n",
       " 't27.pkl',\n",
       " 't28.pkl',\n",
       " 't29.pkl',\n",
       " 't3.pkl',\n",
       " 't30.pkl',\n",
       " 't31.pkl',\n",
       " 't32.pkl',\n",
       " 't33.pkl',\n",
       " 't34.pkl',\n",
       " 't35.pkl',\n",
       " 't36.pkl',\n",
       " 't37.pkl',\n",
       " 't38.pkl',\n",
       " 't39.pkl',\n",
       " 't4.pkl',\n",
       " 't40.pkl',\n",
       " 't41.pkl',\n",
       " 't42.pkl',\n",
       " 't43.pkl',\n",
       " 't44.pkl',\n",
       " 't45.pkl',\n",
       " 't46.pkl',\n",
       " 't47.pkl',\n",
       " 't48.pkl',\n",
       " 't49.pkl',\n",
       " 't5.pkl',\n",
       " 't6.pkl',\n",
       " 't7.pkl',\n",
       " 't8.pkl',\n",
       " 't9.pkl']"
      ]
     },
     "execution_count": 15,
     "metadata": {},
     "output_type": "execute_result"
    }
   ],
   "source": [
    "name_list"
   ]
  },
  {
   "cell_type": "code",
   "execution_count": 16,
   "id": "6e26775c",
   "metadata": {},
   "outputs": [],
   "source": [
    "import pickle\n",
    "\n",
    "game_review = []\n",
    "for i in name_list:\n",
    "    \n",
    "    with open(i,\"rb\") as fr:\n",
    "        data = pickle.load(fr)\n",
    "        game_review.append(data)\n",
    "\n",
    "        "
   ]
  },
  {
   "cell_type": "code",
   "execution_count": null,
   "id": "bb7e07ac",
   "metadata": {},
   "outputs": [],
   "source": []
  },
  {
   "cell_type": "code",
   "execution_count": 17,
   "id": "bb988e24",
   "metadata": {},
   "outputs": [],
   "source": [
    "import pandas as pd"
   ]
  },
  {
   "cell_type": "code",
   "execution_count": 18,
   "id": "26386a64",
   "metadata": {},
   "outputs": [],
   "source": [
    "game_df_b50 = pd.DataFrame(game_review)"
   ]
  },
  {
   "cell_type": "code",
   "execution_count": 41,
   "id": "393219e2",
   "metadata": {},
   "outputs": [],
   "source": [
    "len_df = len(game_df_b50[0])"
   ]
  },
  {
   "cell_type": "code",
   "execution_count": 50,
   "id": "09dd23d2",
   "metadata": {},
   "outputs": [
    {
     "data": {
      "text/plain": [
       "''"
      ]
     },
     "execution_count": 50,
     "metadata": {},
     "output_type": "execute_result"
    }
   ],
   "source": [
    "game_review = ''\n",
    "for i in range(len_df):\n",
    "    \n",
    "    game_review + (game_df_b50[0][i]['review'])\n",
    "\n",
    "game_review"
   ]
  },
  {
   "cell_type": "code",
   "execution_count": 30,
   "id": "1eede242",
   "metadata": {},
   "outputs": [],
   "source": [
    "with open('../game_df_b50.plk', 'wb') as f:\n",
    "    pickle.dump(game_df_b50, f)"
   ]
  },
  {
   "cell_type": "code",
   "execution_count": null,
   "id": "34eaf400",
   "metadata": {},
   "outputs": [],
   "source": []
  }
 ],
 "metadata": {
  "kernelspec": {
   "display_name": "Python 3",
   "language": "python",
   "name": "python3"
  },
  "language_info": {
   "codemirror_mode": {
    "name": "ipython",
    "version": 3
   },
   "file_extension": ".py",
   "mimetype": "text/x-python",
   "name": "python",
   "nbconvert_exporter": "python",
   "pygments_lexer": "ipython3",
   "version": "3.8.8"
  }
 },
 "nbformat": 4,
 "nbformat_minor": 5
}

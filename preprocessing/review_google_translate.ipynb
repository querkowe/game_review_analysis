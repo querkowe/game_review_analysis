{
 "cells": [
  {
   "cell_type": "code",
   "execution_count": null,
   "id": "7aec836e",
   "metadata": {},
   "outputs": [],
   "source": [
    "# !pip install googletrans==4.0.0-rc1"
   ]
  },
  {
   "cell_type": "code",
   "execution_count": 1,
   "id": "7c973100",
   "metadata": {},
   "outputs": [],
   "source": [
    "import googletrans\n",
    "import time\n",
    "import pandas as pd\n",
    "import joblib\n",
    "import os\n",
    "import sys"
   ]
  },
  {
   "cell_type": "code",
   "execution_count": 6,
   "id": "dfc84f65",
   "metadata": {},
   "outputs": [],
   "source": [
    "trans = googletrans.Translator() # 구글 번역기 클래스 객체 변수 생성"
   ]
  },
  {
   "cell_type": "code",
   "execution_count": 9,
   "id": "de8ac758",
   "metadata": {},
   "outputs": [
    {
     "data": {
      "text/plain": [
       "50"
      ]
     },
     "execution_count": 9,
     "metadata": {},
     "output_type": "execute_result"
    }
   ],
   "source": [
    "b_lens = os.listdir('BestReview') # 경로에 해당하는 디렉토리의 파일리스트를 보여줌\n",
    "w_lens = os.listdir('WorstReview')"
   ]
  },
  {
   "cell_type": "code",
   "execution_count": null,
   "id": "85560b0c",
   "metadata": {},
   "outputs": [],
   "source": [
    "b_len = []\n",
    "\n",
    "for b in b_lens:\n",
    "    if os.path.splitext(b)[1] == '.pkl':\n",
    "        b_len.append(b)"
   ]
  },
  {
   "cell_type": "code",
   "execution_count": null,
   "id": "7b674591",
   "metadata": {},
   "outputs": [],
   "source": [
    "w_len = []\n",
    "\n",
    "for w in w_lens:\n",
    "    if os.path.splitext(w)[1] == '.pkl':\n",
    "        w_len.append(w)"
   ]
  },
  {
   "cell_type": "code",
   "execution_count": 79,
   "id": "18414089",
   "metadata": {},
   "outputs": [],
   "source": [
    "name_space = sys.modules[__name__] # 변수 반복 생성을 위한 네임스페이스"
   ]
  },
  {
   "cell_type": "code",
   "execution_count": 179,
   "id": "f346cb84",
   "metadata": {
    "scrolled": true
   },
   "outputs": [],
   "source": [
    "# best review translate\n",
    "\n",
    "for i in range(len(b_len)):\n",
    "    setattr(name_space, f'best_p{i}', joblib.load(f'BestReview/{i}.pkl')) # best_p{파일번호} 변수를 생성하고\n",
    "                                                                    # 각 번호에 해당하는 변수에 피클 불러옴\n",
    "    \n",
    "    for j in range(getattr(name_space,  'best_p{}'.format(i))['review number']): # best_p{파일번호} 의 key값 수만큼 반복\n",
    "        try:\n",
    "            text = trans.translate(getattr(name_space,  'best_p{}'.format(i))[j]['review'], dest ='en') # 리뷰를 영어로 번역\n",
    "            text = text.text # 번역 결과를 텍스트로 출력\n",
    "            \n",
    "            time.sleep(3)\n",
    "                       \n",
    "            getattr(name_space,  'best_p{}'.format(i))[j]['review'] = text # 번역 전 value를 번역한 value로 대체\n",
    "            \n",
    "            \n",
    "        except:\n",
    "                pass\n",
    "    \n",
    "    joblib.dump(getattr(name_space,  'best_p{}'.format(i)), f'BestReview_Translate/t{i}.pkl') # 번역결과 피클로 저장"
   ]
  },
  {
   "cell_type": "code",
   "execution_count": 180,
   "id": "7803e30d",
   "metadata": {},
   "outputs": [],
   "source": [
    "# worst review translate\n",
    "\n",
    "for i in range(len(w_len)):\n",
    "    setattr(name_space, f'worst_p{i}', joblib.load(f'WorstReview/{i}.pkl'))\n",
    "    \n",
    "    for j in range(getattr(name_space,  'worst_p{}'.format(i))['review number']):\n",
    "        try:\n",
    "            text = trans.translate(getattr(name_space,  'worst_p{}'.format(i))[j]['review'], dest ='en')\n",
    "            text = text.text\n",
    "            \n",
    "            time.sleep(3)\n",
    "            \n",
    "            getattr(name_space,  'worst_p{}'.format(i))[j]['review'] = text\n",
    "            \n",
    "            \n",
    "        except:\n",
    "                pass\n",
    "            \n",
    "    joblib.dump(getattr(name_space,  'worst_p{}'.format(i)), f'WorstReview_Translate/t{i}.pkl')"
   ]
  },
  {
   "cell_type": "code",
   "execution_count": null,
   "id": "980e435b",
   "metadata": {},
   "outputs": [],
   "source": [
    "# for i in range(len(w_len)):\n",
    "#     setattr(name_space, f'worst_p{i}', joblib.load(f'worst/{i}.pkl'))\n",
    "\n",
    "\n",
    "#     setattr(name_space, f'worst_t{i}', {})\n",
    "    \n",
    "#     for j in range(len(getattr(name_space,  'worst_p{}'.format(i)).keys())):\n",
    "#         try:\n",
    "#             text = trans.translate(getattr(name_space,  'worst_p{}'.format(i))[j]['review'], dest ='en')\n",
    "#             text = text.text\n",
    "#             time.sleep(3)\n",
    "#             getattr(name_space,  'worst_t{}'.format(i))[j] = text\n",
    "            \n",
    "#             getattr(name_space,  'worst_p{}'.format(i))[j]['review'] = text\n",
    "            \n",
    "            \n",
    "#         except:\n",
    "#             getattr(name_space,  'worst_t{}'.format(i))[j] = ''\n",
    "            \n",
    "#     joblib.dump(getattr(name_space,  'worst_p{}'.format(i)), f't_worst/t{i}.pkl')"
   ]
  }
 ],
 "metadata": {
  "kernelspec": {
   "display_name": "Python 3",
   "language": "python",
   "name": "python3"
  },
  "language_info": {
   "codemirror_mode": {
    "name": "ipython",
    "version": 3
   },
   "file_extension": ".py",
   "mimetype": "text/x-python",
   "name": "python",
   "nbconvert_exporter": "python",
   "pygments_lexer": "ipython3",
   "version": "3.8.8"
  }
 },
 "nbformat": 4,
 "nbformat_minor": 5
}

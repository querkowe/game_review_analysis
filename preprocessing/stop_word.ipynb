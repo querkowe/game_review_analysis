{
 "cells": [
  {
   "cell_type": "code",
   "execution_count": 97,
   "id": "164d0cfd",
   "metadata": {},
   "outputs": [],
   "source": [
    "import nltk\n",
    "\n",
    "from nltk.corpus import stopwords\n",
    "from collections import Counter\n",
    "\n",
    "import pandas as pd\n",
    "\n",
    "from sklearn.feature_extraction.text import TfidfVectorizer\n",
    "from sklearn.metrics.pairwise import cosine_similarity\n",
    "\n",
    "from sklearn import datasets, model_selection, linear_model, metrics"
   ]
  },
  {
   "cell_type": "code",
   "execution_count": 82,
   "id": "344990f7",
   "metadata": {},
   "outputs": [],
   "source": [
    "data = datasets.load_boston()"
   ]
  },
  {
   "cell_type": "code",
   "execution_count": 86,
   "id": "d488a09e",
   "metadata": {},
   "outputs": [],
   "source": [
    "data_df = pd.DataFrame(data['data'])"
   ]
  },
  {
   "cell_type": "code",
   "execution_count": 70,
   "id": "8bf51c92",
   "metadata": {},
   "outputs": [],
   "source": [
    "sentence = 'my name is pandas Dataframe'\n",
    "\n",
    "tokens = nltk.word_tokenize(sentence)\n",
    "tagging = nltk.pos_tag(tokens)"
   ]
  },
  {
   "cell_type": "code",
   "execution_count": 71,
   "id": "a9d731ad",
   "metadata": {},
   "outputs": [],
   "source": [
    "#불용어 사전\n",
    "stop_words = stopwords.words(\"english\")\n",
    "\n",
    "#불용어 추가\n",
    "stop_words.append(',')\n",
    "stop_words.append('(')\n",
    "stop_words.append(')')\n",
    "stop_words.append('.')"
   ]
  },
  {
   "cell_type": "code",
   "execution_count": 78,
   "id": "f14f47a4",
   "metadata": {},
   "outputs": [],
   "source": [
    "#불용어 제거\n",
    "\n",
    "result = []\n",
    "\n",
    "for token in tokens:\n",
    "    \n",
    "    #소문자\n",
    "    if token.lower() not in stop_words:\n",
    "        result.append(token.lower())"
   ]
  },
  {
   "cell_type": "code",
   "execution_count": 79,
   "id": "3e52d2e6",
   "metadata": {},
   "outputs": [
    {
     "name": "stdout",
     "output_type": "stream",
     "text": [
      "['name', 'pandas', 'dataframe']\n"
     ]
    }
   ],
   "source": [
    "print(result)"
   ]
  },
  {
   "cell_type": "code",
   "execution_count": null,
   "id": "b95b3926",
   "metadata": {},
   "outputs": [],
   "source": []
  },
  {
   "cell_type": "code",
   "execution_count": null,
   "id": "b122db37",
   "metadata": {},
   "outputs": [],
   "source": []
  },
  {
   "cell_type": "code",
   "execution_count": null,
   "id": "3581ff63",
   "metadata": {},
   "outputs": [],
   "source": []
  },
  {
   "cell_type": "code",
   "execution_count": null,
   "id": "51f48c57",
   "metadata": {},
   "outputs": [],
   "source": []
  },
  {
   "cell_type": "code",
   "execution_count": null,
   "id": "beb59950",
   "metadata": {},
   "outputs": [],
   "source": []
  },
  {
   "cell_type": "code",
   "execution_count": null,
   "id": "98b980c1",
   "metadata": {},
   "outputs": [],
   "source": []
  },
  {
   "cell_type": "code",
   "execution_count": null,
   "id": "e12b7d71",
   "metadata": {},
   "outputs": [],
   "source": []
  },
  {
   "cell_type": "code",
   "execution_count": null,
   "id": "7acef1e8",
   "metadata": {},
   "outputs": [],
   "source": []
  },
  {
   "cell_type": "code",
   "execution_count": null,
   "id": "6bd40882",
   "metadata": {},
   "outputs": [],
   "source": []
  }
 ],
 "metadata": {
  "kernelspec": {
   "display_name": "Python 3",
   "language": "python",
   "name": "python3"
  },
  "language_info": {
   "codemirror_mode": {
    "name": "ipython",
    "version": 3
   },
   "file_extension": ".py",
   "mimetype": "text/x-python",
   "name": "python",
   "nbconvert_exporter": "python",
   "pygments_lexer": "ipython3",
   "version": "3.8.8"
  }
 },
 "nbformat": 4,
 "nbformat_minor": 5
}
